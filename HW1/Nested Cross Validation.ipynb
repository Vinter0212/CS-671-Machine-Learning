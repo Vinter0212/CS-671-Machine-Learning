{
 "cells": [
  {
   "cell_type": "code",
   "execution_count": 6,
   "metadata": {},
   "outputs": [],
   "source": [
    "import numpy as np\n",
    "import csv\n",
    "from sklearn.linear_model import LogisticRegression\n",
    "from sklearn.metrics import f1_score\n",
    "import math\n",
    "import random\n",
    "import warnings\n",
    "warnings.filterwarnings('ignore')"
   ]
  },
  {
   "cell_type": "code",
   "execution_count": 7,
   "metadata": {},
   "outputs": [],
   "source": [
    "def read_data():\n",
    "    data = []\n",
    "    with open('transfusion.data') as csvfile:\n",
    "        reader = csv.reader(csvfile)\n",
    "        headers = next(reader) # take the header out\n",
    "        for row in reader: # each row is a list\n",
    "            data.append(row)\n",
    "    data  = np.array(data, dtype = np.int32)\n",
    "    data=np.take(data,np.random.RandomState(seed=15).permutation(data.shape[0]),axis=0);# Randomizes the data beofre splitting into dependent and independent variables\n",
    "    X = data[:,:-1]\n",
    "    y = data[:,-1]\n",
    "    return X, y\n",
    "\n",
    "    \n",
    "X, y = read_data()"
   ]
  },
  {
   "cell_type": "code",
   "execution_count": 8,
   "metadata": {},
   "outputs": [],
   "source": [
    "records=X.shape[0] # Total number of rows\n",
    "temp=math.ceil(records/5) # Number of rows in each fold\n",
    "C = [0.1,1,10,100] # Hyperparameter for regularization\n",
    "final_f1_value = np.zeros(5) # Array to store the final F1 scores for each test set"
   ]
  },
  {
   "cell_type": "code",
   "execution_count": 9,
   "metadata": {},
   "outputs": [
    {
     "name": "stdout",
     "output_type": "stream",
     "text": [
      "F1 Score of parameters: rows -> parameters , columns -> validation set\n",
      "[[0.15789474 0.13953488 0.23809524 0.17391304]\n",
      " [0.15789474 0.14285714 0.15       0.17391304]\n",
      " [0.15789474 0.14285714 0.15       0.17391304]\n",
      " [0.15789474 0.14285714 0.15       0.17391304]]\n",
      "Best Parameter value for the test set:  0.1\n",
      "F1 score on the test set :  0.30000000000000004\n",
      "\n",
      "\n",
      "F1 Score of parameters: rows -> parameters , columns -> validation set\n",
      "[[0.21621622 0.18604651 0.23809524 0.20833333]\n",
      " [0.21621622 0.0952381  0.15       0.20833333]\n",
      " [0.21621622 0.0952381  0.15       0.20833333]\n",
      " [0.21621622 0.0952381  0.15       0.20833333]]\n",
      "Best Parameter value for the test set:  0.1\n",
      "F1 score on the test set :  0.2439024390243902\n",
      "\n",
      "\n",
      "F1 Score of parameters: rows -> parameters , columns -> validation set\n",
      "[[0.3        0.23255814 0.30434783 0.24      ]\n",
      " [0.3        0.23255814 0.27272727 0.20408163]\n",
      " [0.3        0.23255814 0.27272727 0.20408163]\n",
      " [0.3        0.23255814 0.27272727 0.20408163]]\n",
      "Best Parameter value for the test set:  0.1\n",
      "F1 score on the test set :  0.2173913043478261\n",
      "\n",
      "\n",
      "F1 Score of parameters: rows -> parameters , columns -> validation set\n",
      "[[0.33333333 0.27272727 0.40740741 0.24      ]\n",
      " [0.33333333 0.27272727 0.38461538 0.24      ]\n",
      " [0.33333333 0.27272727 0.38461538 0.24      ]\n",
      " [0.33333333 0.27272727 0.38461538 0.24      ]]\n",
      "Best Parameter value for the test set:  0.1\n",
      "F1 score on the test set :  0.23809523809523808\n",
      "\n",
      "\n",
      "F1 Score of parameters: rows -> parameters , columns -> validation set\n",
      "[[0.26315789 0.15789474 0.13953488 0.23809524]\n",
      " [0.21621622 0.15789474 0.14285714 0.15      ]\n",
      " [0.21621622 0.15789474 0.09756098 0.15      ]\n",
      " [0.21621622 0.15789474 0.09756098 0.15      ]]\n",
      "Best Parameter value for the test set:  0.1\n",
      "F1 score on the test set :  0.20833333333333331\n",
      "\n",
      "\n"
     ]
    }
   ],
   "source": [
    "for i in range(0,5): #Start of test loop\n",
    "    if(i!=4): # Splitting data into training and test for the first 4 test sets\n",
    "        X_test= X[i*temp:(i+1)*temp,] #Test set of the current loop for independent variables\n",
    "        y_test= y[i*temp:(i+1)*temp] #Test set of the current loop for dependent variable\n",
    "        X_train_1=X[0:i*temp,]\n",
    "        X_train_2= X[(i+1)*temp:,]\n",
    "        X_train= np.concatenate((X_train_1,X_train_2),0)#Outer Training set of the current loop for independent variable\n",
    "        y_train_1=y[0:i*temp]\n",
    "        y_train_2= y[(i+1)*temp:]\n",
    "        y_train= np.concatenate((y_train_1,y_train_2)) #Outer Training set of the curren loop for dependent variable\n",
    "    else: # Splitting data into training and test for the last test set since last fold might have fewer rows\n",
    "        X_test=X[i*temp:,]\n",
    "        X_train= X[0:i*temp,]\n",
    "        y_test=y[i*temp:,]\n",
    "        y_train= y[0:i*temp,]\n",
    "    f1_matrix=np.zeros((4,4)) # 4 x 4 matrix to store the F1 scores of every parameter acroos the 4 validation folds\n",
    "    for j in range(0,4): # Start of the validation loop\n",
    "        if(j!=3):\n",
    "            X_val = X_train[j*temp:(j+1)*temp,]#Validation set of the current loop for independent variables\n",
    "            X_inner_train_1 = X_train[0:j*temp,]\n",
    "            X_inner_train_2 = X_train[(j+1)*temp:,]\n",
    "            X_inner_train= np.concatenate((X_inner_train_1,X_inner_train_2),0) #Inner Training set of the current loop for independent variable\n",
    "            y_val = y_train[j*temp:(j+1)*temp] #Validation set of the current loop for dependent variables\n",
    "            y_inner_train_1 = y_train[0:j*temp]\n",
    "            y_inner_train_2 = y_train[(j+1)*temp:]\n",
    "            y_inner_train= np.concatenate((y_inner_train_1,y_inner_train_2))#Inner Training set of the current loop for dependent variable\n",
    "        else:\n",
    "            X_val=X_train[j*temp:,]\n",
    "            X_inner_train= X_train[0:j*temp,]\n",
    "            y_val=y_train[j*temp:,]\n",
    "            y_inner_train= y_train[0:j*temp,]\n",
    "        l=0\n",
    "        for k in C:# Iterate through all parameters\n",
    "            model = LogisticRegression(C=k)\n",
    "            model.fit(X_inner_train, y_inner_train)\n",
    "            y_pred = model.predict(X_val)\n",
    "            f1_matrix[l][j]=f1_score(y_val, y_pred)# Store the F1 score in the 4 x 4 matrix\n",
    "            l=l+1\n",
    "    print(\"F1 Score of parameters: rows -> parameters , columns -> validation set\")\n",
    "    print(f1_matrix)\n",
    "    f1_matrix_sum=f1_matrix.sum(axis=1)# Sum(equivalent to comparing average as we divide by 4) the F1 score for the parameters across the validation loop\n",
    "    max_val= np.amax(f1_matrix_sum) # Maximum value \n",
    "    max_ind = np.where(f1_matrix_sum==max_val) # Selecting the index of parameter with max value\n",
    "    print(\"Best Parameter value for the test set: \",C[max_ind[0][0]])# Output the best parameter selected for the current test set\n",
    "    model = LogisticRegression(C=C[max_ind[0][0]])\n",
    "    model.fit(X_train, y_train)\n",
    "    y_pred = model.predict(X_test)\n",
    "    final_f1_value[i]= f1_score(y_test, y_pred) # Storing the F1 score using the best paramterer for current test set\n",
    "    print(\"F1 score on the test set : \",final_f1_value[i])\n",
    "    print(\"\\n\")"
   ]
  },
  {
   "cell_type": "code",
   "execution_count": 10,
   "metadata": {},
   "outputs": [
    {
     "name": "stdout",
     "output_type": "stream",
     "text": [
      "[0.3        0.24390244 0.2173913  0.23809524 0.20833333]\n",
      "0.24154446296015758\n",
      "0.03200269118667001\n"
     ]
    }
   ],
   "source": [
    "print(final_f1_value)# Print all the F1 scores for 5 test sets\n",
    "print(np.mean(final_f1_value))# Mean of F1 scores\n",
    "print(np.std(final_f1_value))# Standard Deviation of F1 scores"
   ]
  }
 ],
 "metadata": {
  "kernelspec": {
   "display_name": "Python 3",
   "language": "python",
   "name": "python3"
  },
  "language_info": {
   "codemirror_mode": {
    "name": "ipython",
    "version": 3
   },
   "file_extension": ".py",
   "mimetype": "text/x-python",
   "name": "python",
   "nbconvert_exporter": "python",
   "pygments_lexer": "ipython3",
   "version": "3.7.3"
  }
 },
 "nbformat": 4,
 "nbformat_minor": 2
}
